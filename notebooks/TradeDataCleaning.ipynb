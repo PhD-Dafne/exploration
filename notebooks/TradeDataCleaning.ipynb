{
 "cells": [
  {
   "cell_type": "code",
   "execution_count": 1,
   "metadata": {
    "collapsed": true
   },
   "outputs": [],
   "source": [
    "%matplotlib inline\n",
    "import pandas as pd\n",
    "import os"
   ]
  },
  {
   "cell_type": "code",
   "execution_count": 31,
   "metadata": {
    "collapsed": true
   },
   "outputs": [],
   "source": [
    "fpath = '/media/sf_VBox_Shared/networks/trade/'"
   ]
  },
  {
   "cell_type": "markdown",
   "metadata": {},
   "source": [
    "To do: read the multiple year file, but do smart filtering so that we do not load to much into memory"
   ]
  },
  {
   "cell_type": "code",
   "execution_count": 2,
   "metadata": {
    "collapsed": true
   },
   "outputs": [],
   "source": [
    "df = pd.read_csv('/media/sf_VBox_Shared/networks/trade/OECD-WTO_BATIS_data.csv', \n",
    "                 keep_default_na=False,\n",
    "                 na_values=[''],\n",
    "                dtype={'Reporter':str, 'Partner': str, 'Flow': str, \n",
    "                       'Year': int,\n",
    "                       'Reported_value': float,\n",
    "                       'Final_value': float,\n",
    "                       'Final_value_methodology': str,\n",
    "                       'Balanced_value': float})"
   ]
  },
  {
   "cell_type": "code",
   "execution_count": 50,
   "metadata": {
    "collapsed": true
   },
   "outputs": [],
   "source": [
    "#df = pd.read_csv(os.path.join(fpath, 'services_annual_dataset.csv'), keep_default_na=False)"
   ]
  },
  {
   "cell_type": "code",
   "execution_count": 8,
   "metadata": {
    "collapsed": true
   },
   "outputs": [],
   "source": [
    "df = df[~df.Reported_value.isnull()]\n",
    "df = df[~df.Balanced_value.isnull()]"
   ]
  },
  {
   "cell_type": "code",
   "execution_count": 13,
   "metadata": {},
   "outputs": [
    {
     "data": {
      "text/html": [
       "<div>\n",
       "<style>\n",
       "    .dataframe thead tr:only-child th {\n",
       "        text-align: right;\n",
       "    }\n",
       "\n",
       "    .dataframe thead th {\n",
       "        text-align: left;\n",
       "    }\n",
       "\n",
       "    .dataframe tbody tr th {\n",
       "        vertical-align: top;\n",
       "    }\n",
       "</style>\n",
       "<table border=\"1\" class=\"dataframe\">\n",
       "  <thead>\n",
       "    <tr style=\"text-align: right;\">\n",
       "      <th></th>\n",
       "      <th>Reporter</th>\n",
       "      <th>Partner</th>\n",
       "      <th>Flow</th>\n",
       "      <th>Item_code</th>\n",
       "      <th>Year</th>\n",
       "      <th>Reported_value</th>\n",
       "      <th>Final_value</th>\n",
       "      <th>Final_value_methodology</th>\n",
       "      <th>Balanced_value</th>\n",
       "    </tr>\n",
       "  </thead>\n",
       "  <tbody>\n",
       "    <tr>\n",
       "      <th>2513</th>\n",
       "      <td>888</td>\n",
       "      <td>WL</td>\n",
       "      <td>M</td>\n",
       "      <td>S200</td>\n",
       "      <td>2008</td>\n",
       "      <td>396.19</td>\n",
       "      <td>396.19</td>\n",
       "      <td>NaN</td>\n",
       "      <td>1870.3467</td>\n",
       "    </tr>\n",
       "    <tr>\n",
       "      <th>2707</th>\n",
       "      <td>888</td>\n",
       "      <td>WL</td>\n",
       "      <td>M</td>\n",
       "      <td>S200</td>\n",
       "      <td>2009</td>\n",
       "      <td>399.67</td>\n",
       "      <td>399.67</td>\n",
       "      <td>E2</td>\n",
       "      <td>1736.8767</td>\n",
       "    </tr>\n",
       "    <tr>\n",
       "      <th>2900</th>\n",
       "      <td>888</td>\n",
       "      <td>WL</td>\n",
       "      <td>M</td>\n",
       "      <td>S200</td>\n",
       "      <td>2010</td>\n",
       "      <td>510.13</td>\n",
       "      <td>510.13</td>\n",
       "      <td>E2</td>\n",
       "      <td>1694.2854</td>\n",
       "    </tr>\n",
       "    <tr>\n",
       "      <th>3092</th>\n",
       "      <td>888</td>\n",
       "      <td>WL</td>\n",
       "      <td>M</td>\n",
       "      <td>S200</td>\n",
       "      <td>2011</td>\n",
       "      <td>511.84</td>\n",
       "      <td>511.84</td>\n",
       "      <td>E2</td>\n",
       "      <td>1731.8951</td>\n",
       "    </tr>\n",
       "    <tr>\n",
       "      <th>3285</th>\n",
       "      <td>888</td>\n",
       "      <td>WL</td>\n",
       "      <td>M</td>\n",
       "      <td>S200</td>\n",
       "      <td>2012</td>\n",
       "      <td>374.05</td>\n",
       "      <td>374.05</td>\n",
       "      <td>E2</td>\n",
       "      <td>1738.5639</td>\n",
       "    </tr>\n",
       "  </tbody>\n",
       "</table>\n",
       "</div>"
      ],
      "text/plain": [
       "     Reporter Partner Flow Item_code  Year  Reported_value  Final_value  \\\n",
       "2513      888      WL    M      S200  2008          396.19       396.19   \n",
       "2707      888      WL    M      S200  2009          399.67       399.67   \n",
       "2900      888      WL    M      S200  2010          510.13       510.13   \n",
       "3092      888      WL    M      S200  2011          511.84       511.84   \n",
       "3285      888      WL    M      S200  2012          374.05       374.05   \n",
       "\n",
       "     Final_value_methodology  Balanced_value  \n",
       "2513                     NaN       1870.3467  \n",
       "2707                      E2       1736.8767  \n",
       "2900                      E2       1694.2854  \n",
       "3092                      E2       1731.8951  \n",
       "3285                      E2       1738.5639  "
      ]
     },
     "execution_count": 13,
     "metadata": {},
     "output_type": "execute_result"
    }
   ],
   "source": [
    "df.head()"
   ]
  },
  {
   "cell_type": "code",
   "execution_count": 19,
   "metadata": {},
   "outputs": [
    {
     "data": {
      "text/plain": [
       "S200    120998\n",
       "S205     57395\n",
       "S236     57043\n",
       "S268     46914\n",
       "S260     46116\n",
       "S253     44799\n",
       "S291     43851\n",
       "S245     43044\n",
       "S266     42070\n",
       "S262     41717\n",
       "S249     39667\n",
       "S287     38633\n",
       "Name: Item_code, dtype: int64"
      ]
     },
     "execution_count": 19,
     "metadata": {},
     "output_type": "execute_result"
    }
   ],
   "source": [
    "df.Item_code.value_counts()"
   ]
  },
  {
   "cell_type": "markdown",
   "metadata": {},
   "source": [
    "Create one 'import' table "
   ]
  },
  {
   "cell_type": "code",
   "execution_count": 14,
   "metadata": {},
   "outputs": [
    {
     "data": {
      "text/html": [
       "<div>\n",
       "<style>\n",
       "    .dataframe thead tr:only-child th {\n",
       "        text-align: right;\n",
       "    }\n",
       "\n",
       "    .dataframe thead th {\n",
       "        text-align: left;\n",
       "    }\n",
       "\n",
       "    .dataframe tbody tr th {\n",
       "        vertical-align: top;\n",
       "    }\n",
       "</style>\n",
       "<table border=\"1\" class=\"dataframe\">\n",
       "  <thead>\n",
       "    <tr style=\"text-align: right;\">\n",
       "      <th></th>\n",
       "      <th>id</th>\n",
       "      <th>Label</th>\n",
       "      <th>latitude</th>\n",
       "      <th>longitude</th>\n",
       "      <th>name</th>\n",
       "    </tr>\n",
       "  </thead>\n",
       "  <tbody>\n",
       "    <tr>\n",
       "      <th>0</th>\n",
       "      <td>AD</td>\n",
       "      <td>Andorra</td>\n",
       "      <td>42.546245</td>\n",
       "      <td>1.601554</td>\n",
       "      <td>Andorra</td>\n",
       "    </tr>\n",
       "    <tr>\n",
       "      <th>1</th>\n",
       "      <td>AE</td>\n",
       "      <td>United Arab Emirates</td>\n",
       "      <td>23.424076</td>\n",
       "      <td>53.847818</td>\n",
       "      <td>United Arab Emirates</td>\n",
       "    </tr>\n",
       "    <tr>\n",
       "      <th>2</th>\n",
       "      <td>AF</td>\n",
       "      <td>Afghanistan</td>\n",
       "      <td>33.939110</td>\n",
       "      <td>67.709953</td>\n",
       "      <td>Afghanistan</td>\n",
       "    </tr>\n",
       "    <tr>\n",
       "      <th>3</th>\n",
       "      <td>AG</td>\n",
       "      <td>Antigua and Barbuda</td>\n",
       "      <td>17.060816</td>\n",
       "      <td>-61.796428</td>\n",
       "      <td>Antigua and Barbuda</td>\n",
       "    </tr>\n",
       "    <tr>\n",
       "      <th>4</th>\n",
       "      <td>AI</td>\n",
       "      <td>Anguilla</td>\n",
       "      <td>18.220554</td>\n",
       "      <td>-63.068615</td>\n",
       "      <td>Anguilla</td>\n",
       "    </tr>\n",
       "  </tbody>\n",
       "</table>\n",
       "</div>"
      ],
      "text/plain": [
       "   id                 Label   latitude  longitude                  name\n",
       "0  AD               Andorra  42.546245   1.601554               Andorra\n",
       "1  AE  United Arab Emirates  23.424076  53.847818  United Arab Emirates\n",
       "2  AF           Afghanistan  33.939110  67.709953           Afghanistan\n",
       "3  AG   Antigua and Barbuda  17.060816 -61.796428   Antigua and Barbuda\n",
       "4  AI              Anguilla  18.220554 -63.068615              Anguilla"
      ]
     },
     "execution_count": 14,
     "metadata": {},
     "output_type": "execute_result"
    }
   ],
   "source": [
    "countries = pd.read_csv('/media/sf_VBox_Shared/CorpNet/board-interlock/countries.csv',\n",
    "                        keep_default_na=False, na_values=[''])\n",
    "countries.head()"
   ]
  },
  {
   "cell_type": "code",
   "execution_count": 15,
   "metadata": {
    "collapsed": true
   },
   "outputs": [],
   "source": [
    "country_ids = set(countries.id)"
   ]
  },
  {
   "cell_type": "code",
   "execution_count": 16,
   "metadata": {},
   "outputs": [
    {
     "data": {
      "text/plain": [
       "(248, 191)"
      ]
     },
     "execution_count": 16,
     "metadata": {},
     "output_type": "execute_result"
    }
   ],
   "source": [
    "len(country_ids), df.Reporter.nunique()"
   ]
  },
  {
   "cell_type": "code",
   "execution_count": 22,
   "metadata": {},
   "outputs": [],
   "source": [
    "df_import = df[(df.Flow=='M') & (df.Reporter.isin(country_ids)) & (df.Partner.isin(country_ids))]\n",
    "df_import = df_import[df_import.Item_code=='S200']"
   ]
  },
  {
   "cell_type": "code",
   "execution_count": 26,
   "metadata": {},
   "outputs": [
    {
     "data": {
      "text/plain": [
       "array([1995, 1996, 1997, 1998, 1999, 2000, 2001, 2002, 2003, 2004, 2005,\n",
       "       2006, 2007, 2008, 2009, 2010, 2011, 2012])"
      ]
     },
     "execution_count": 26,
     "metadata": {},
     "output_type": "execute_result"
    }
   ],
   "source": [
    "df_import.Year.unique()"
   ]
  },
  {
   "cell_type": "code",
   "execution_count": 23,
   "metadata": {},
   "outputs": [
    {
     "data": {
      "text/plain": [
       "(56225,)"
      ]
     },
     "execution_count": 23,
     "metadata": {},
     "output_type": "execute_result"
    }
   ],
   "source": [
    "df_group_import =  df_import.groupby(\n",
    "    ['Year', 'Reporter', 'Partner'])['Balanced_value'].sum()\n",
    "df_group_import.shape"
   ]
  },
  {
   "cell_type": "code",
   "execution_count": 24,
   "metadata": {},
   "outputs": [
    {
     "data": {
      "text/plain": [
       "(52884,)"
      ]
     },
     "execution_count": 24,
     "metadata": {},
     "output_type": "execute_result"
    }
   ],
   "source": [
    "# Filter less than 10000 dollar\n",
    "df_group_import = df_group_import[df_group_import>0.01]\n",
    "df_group_import.shape"
   ]
  },
  {
   "cell_type": "code",
   "execution_count": 27,
   "metadata": {
    "collapsed": true
   },
   "outputs": [],
   "source": [
    "df_group_import.name = 'Weight'\n",
    "df_group_import = df_group_import.reset_index()\n",
    "df_group_import = df_group_import.rename(columns={'Reporter': 'Target', 'Partner': 'Source'})"
   ]
  },
  {
   "cell_type": "code",
   "execution_count": 28,
   "metadata": {},
   "outputs": [
    {
     "data": {
      "text/html": [
       "<div>\n",
       "<style>\n",
       "    .dataframe thead tr:only-child th {\n",
       "        text-align: right;\n",
       "    }\n",
       "\n",
       "    .dataframe thead th {\n",
       "        text-align: left;\n",
       "    }\n",
       "\n",
       "    .dataframe tbody tr th {\n",
       "        vertical-align: top;\n",
       "    }\n",
       "</style>\n",
       "<table border=\"1\" class=\"dataframe\">\n",
       "  <thead>\n",
       "    <tr style=\"text-align: right;\">\n",
       "      <th></th>\n",
       "      <th>Year</th>\n",
       "      <th>Target</th>\n",
       "      <th>Source</th>\n",
       "      <th>Weight</th>\n",
       "    </tr>\n",
       "  </thead>\n",
       "  <tbody>\n",
       "    <tr>\n",
       "      <th>0</th>\n",
       "      <td>1995</td>\n",
       "      <td>AT</td>\n",
       "      <td>AL</td>\n",
       "      <td>1.3956</td>\n",
       "    </tr>\n",
       "    <tr>\n",
       "      <th>1</th>\n",
       "      <td>1995</td>\n",
       "      <td>AT</td>\n",
       "      <td>AR</td>\n",
       "      <td>13.1798</td>\n",
       "    </tr>\n",
       "    <tr>\n",
       "      <th>2</th>\n",
       "      <td>1995</td>\n",
       "      <td>AT</td>\n",
       "      <td>AU</td>\n",
       "      <td>60.6951</td>\n",
       "    </tr>\n",
       "    <tr>\n",
       "      <th>3</th>\n",
       "      <td>1995</td>\n",
       "      <td>AT</td>\n",
       "      <td>BE</td>\n",
       "      <td>319.7563</td>\n",
       "    </tr>\n",
       "    <tr>\n",
       "      <th>4</th>\n",
       "      <td>1995</td>\n",
       "      <td>AT</td>\n",
       "      <td>BG</td>\n",
       "      <td>33.3532</td>\n",
       "    </tr>\n",
       "  </tbody>\n",
       "</table>\n",
       "</div>"
      ],
      "text/plain": [
       "   Year Target Source    Weight\n",
       "0  1995     AT     AL    1.3956\n",
       "1  1995     AT     AR   13.1798\n",
       "2  1995     AT     AU   60.6951\n",
       "3  1995     AT     BE  319.7563\n",
       "4  1995     AT     BG   33.3532"
      ]
     },
     "execution_count": 28,
     "metadata": {},
     "output_type": "execute_result"
    }
   ],
   "source": [
    "df_group_import.head()"
   ]
  },
  {
   "cell_type": "code",
   "execution_count": 32,
   "metadata": {},
   "outputs": [],
   "source": [
    "df_group_import.to_csv(os.path.join(fpath, 'import', 'import-links-allyears.csv'), header=True, index=False)"
   ]
  },
  {
   "cell_type": "code",
   "execution_count": 34,
   "metadata": {},
   "outputs": [],
   "source": [
    "for year in df_import.Year.unique():\n",
    "    df_year = df_group_import[df_group_import.Year==year][['Source', 'Target', 'Weight']]\n",
    "    df_year.to_csv(os.path.join(fpath,'import', 'import-links-{}.csv'.format(year)), header=True, index=False)"
   ]
  },
  {
   "cell_type": "code",
   "execution_count": 116,
   "metadata": {
    "collapsed": true
   },
   "outputs": [],
   "source": [
    "import networkx as nx\n",
    "countries = countries.set_index('id')"
   ]
  },
  {
   "cell_type": "code",
   "execution_count": 137,
   "metadata": {
    "collapsed": true
   },
   "outputs": [],
   "source": [
    "countries = countries.fillna(0)"
   ]
  },
  {
   "cell_type": "code",
   "execution_count": 138,
   "metadata": {
    "collapsed": true
   },
   "outputs": [],
   "source": [
    "nw = nx.from_pandas_edgelist(df_group_import, source='Source', target='Target', edge_attr='Weight', \n",
    "                             create_using=nx.DiGraph())"
   ]
  },
  {
   "cell_type": "code",
   "execution_count": 141,
   "metadata": {},
   "outputs": [
    {
     "name": "stdout",
     "output_type": "stream",
     "text": [
      "latitude\n",
      "longitude\n"
     ]
    }
   ],
   "source": [
    "for c in countries.columns:\n",
    "    values = dict(countries[c])\n",
    "    if countries[c].dtype == 'float64':\n",
    "        print(c)\n",
    "        values = {k: float(values[k]) for k in values}\n",
    "    nx.set_node_attributes(nw, name=c, values=values)"
   ]
  },
  {
   "cell_type": "code",
   "execution_count": 142,
   "metadata": {
    "collapsed": true
   },
   "outputs": [],
   "source": [
    "nx.write_gexf(nw, '/media/sf_VBox_Shared/networks/trade/import-links.gexf')"
   ]
  },
  {
   "cell_type": "code",
   "execution_count": 5,
   "metadata": {},
   "outputs": [
    {
     "data": {
      "text/plain": [
       "Exports    1257045\n",
       "Imports    1244239\n",
       "Name: Flow_Description, dtype: int64"
      ]
     },
     "execution_count": 5,
     "metadata": {},
     "output_type": "execute_result"
    }
   ],
   "source": [
    "df.Flow_Description.value_counts()"
   ]
  },
  {
   "cell_type": "code",
   "execution_count": 4,
   "metadata": {},
   "outputs": [
    {
     "data": {
      "text/plain": [
       "Services                                                                                          99503\n",
       "Goods-related services                                                                            70382\n",
       "Transport                                                                                         39976\n",
       "Travel                                                                                            38768\n",
       "Other services                                                                                    37771\n",
       "Commercial services                                                                               37163\n",
       "Other business services                                                                           35749\n",
       "Telecommunications, computer, and information services                                            35563\n",
       "Insurance and pension services                                                                    34626\n",
       "Other commercial services                                                                         34440\n",
       "Financial services                                                                                34253\n",
       "Charges for the use of intellectual property n.i.e.                                               34216\n",
       "Maintenance and repair services n.i.e.                                                            32304\n",
       "Government goods and services n.i.e.                                                              32050\n",
       "Construction                                                                                      31821\n",
       "Personal, cultural, and recreational services                                                     31144\n",
       "Manufacturing services on physical inputs owned by others                                         26849\n",
       "Sea transport                                                                                     25743\n",
       "Technical, trade-related, and other business services                                             25702\n",
       "Professional and management consulting services                                                   25605\n",
       "Other modes of transport                                                                          25130\n",
       "Computer services                                                                                 25096\n",
       "Telecommunications services                                                                       24731\n",
       "Air transport                                                                                     24392\n",
       "Research and development services                                                                 24257\n",
       "Business                                                                                          23582\n",
       "Direct insurance                                                                                  23478\n",
       "Freight  (Sea)                                                                                    22793\n",
       "Reinsurance                                                                                       22776\n",
       "Information services                                                                              22771\n",
       "                                                                                                  ...  \n",
       "Of which: Convention, trade-fair and exhibition organization services                              4887\n",
       "Other sales of proprietary rights arising from research and development                            4887\n",
       "Industrial processes and designs                                                                   4853\n",
       "Patents                                                                                            4830\n",
       "Copyrights arising from research and development                                                   4781\n",
       "Artistic related services                                                                          4744\n",
       "of which:  Health services                                                                         4720\n",
       "Audio-visual services                                                                              4638\n",
       "Of which: Software originals                                                                       4632\n",
       "of which: Education services                                                                       4462\n",
       "Services not allocated                                                                             4288\n",
       "Gross freight insurance claims receivable (credits) and payable (debits)                           4230\n",
       "Gross freight insurance premiums receivable (credits) and payable (debits)                         4137\n",
       "Of which: payable by border, seasonal, and other short-term workers (All modes of transport)       4119\n",
       "Gross life insurance claims receivable (credits) and payable (debits)                              4070\n",
       "Tourism-related services in  travel and passenger transport                                        4015\n",
       "Gross life insurance premiums receivable (credits) and payable (debits)                            4005\n",
       "Gross other direct insurance claims receivable (credits) and payable (debits)                      3552\n",
       "Gross other direct insurance premiums receivable (credits) and payable (debits)                    3526\n",
       "Goods (travel)                                                                                     3514\n",
       "Accommodation services                                                                             3486\n",
       "Of which: Audio-visual originals                                                                   3473\n",
       "Food-serving services                                                                              2544\n",
       "Local transport services                                                                           2538\n",
       "Of which: Payable by border, seasonal, and other short-term workers (Other)                         283\n",
       "Of which: Payable by border, seasonal, and other short-term workers (Air)                           272\n",
       "Of which: Payable by border, seasonal, and other short-term workers  (Sea)                          259\n",
       "Memo item: Courier services                                                                          20\n",
       "EBOPS 2010 complementary groupings: Of which: C.3.1 Licences to use computer software products       14\n",
       "Memo item: Postal services                                                                            4\n",
       "Name: Indicator_Description, Length: 149, dtype: int64"
      ]
     },
     "execution_count": 4,
     "metadata": {},
     "output_type": "execute_result"
    }
   ],
   "source": [
    "df.Indicator_Description.value_counts()"
   ]
  },
  {
   "cell_type": "code",
   "execution_count": null,
   "metadata": {
    "collapsed": true
   },
   "outputs": [],
   "source": []
  }
 ],
 "metadata": {
  "anaconda-cloud": {},
  "kernelspec": {
   "display_name": "Python 3",
   "language": "python",
   "name": "python3"
  },
  "language_info": {
   "codemirror_mode": {
    "name": "ipython",
    "version": 3
   },
   "file_extension": ".py",
   "mimetype": "text/x-python",
   "name": "python",
   "nbconvert_exporter": "python",
   "pygments_lexer": "ipython3",
   "version": "3.5.5"
  }
 },
 "nbformat": 4,
 "nbformat_minor": 2
}
