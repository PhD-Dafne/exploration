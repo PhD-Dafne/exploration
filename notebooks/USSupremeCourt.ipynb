{
 "cells": [
  {
   "cell_type": "code",
   "execution_count": 1,
   "metadata": {},
   "outputs": [],
   "source": [
    "%matplotlib inline\n",
    "import pandas as pd\n",
    "import os"
   ]
  },
  {
   "cell_type": "markdown",
   "metadata": {},
   "source": [
    "Data from http://fowler.ucsd.edu/judicial.htm, following the paper:\n",
    "\n",
    "Network Analysis and the Law: \n",
    "Measuring the Legal Importance of Supreme Court Precedents.\n",
    "James H. Fowler, Timothy R. Johnson, James F. Spriggs II, Sangick Jeon, Paul J. Wahlbeck \n",
    "Political Analysis, 15 (3): 324-346 (July 2007)"
   ]
  },
  {
   "cell_type": "code",
   "execution_count": 2,
   "metadata": {},
   "outputs": [],
   "source": [
    "fpath = '/media/sf_VBox_Shared/networks/supreme-court/'\n",
    "#df = pd.read_csv(os.path.join(fpath, 'SCDB_Legacy_04_caseCentered_Citation_utf8.csv'))\n",
    "df_links = pd.read_csv(os.path.join(fpath, 'Pol_Analysis_ussc_cites.csv'))"
   ]
  },
  {
   "cell_type": "code",
   "execution_count": 3,
   "metadata": {},
   "outputs": [],
   "source": [
    "df_nodes = pd.read_stata(os.path.join(fpath, 'Pol_Analysis_replication.dta'))"
   ]
  },
  {
   "cell_type": "code",
   "execution_count": 4,
   "metadata": {},
   "outputs": [
    {
     "data": {
      "text/html": [
       "<div>\n",
       "<style>\n",
       "    .dataframe thead tr:only-child th {\n",
       "        text-align: right;\n",
       "    }\n",
       "\n",
       "    .dataframe thead th {\n",
       "        text-align: left;\n",
       "    }\n",
       "\n",
       "    .dataframe tbody tr th {\n",
       "        vertical-align: top;\n",
       "    }\n",
       "</style>\n",
       "<table border=\"1\" class=\"dataframe\">\n",
       "  <thead>\n",
       "    <tr style=\"text-align: right;\">\n",
       "      <th></th>\n",
       "      <th>cited_case</th>\n",
       "      <th>citing_case</th>\n",
       "    </tr>\n",
       "  </thead>\n",
       "  <tbody>\n",
       "    <tr>\n",
       "      <th>0</th>\n",
       "      <td>1796 U.S. LEXIS 409</td>\n",
       "      <td>1792 U.S. LEXIS 587</td>\n",
       "    </tr>\n",
       "    <tr>\n",
       "      <th>1</th>\n",
       "      <td>1793 U.S. LEXIS 249</td>\n",
       "      <td>1793 U.S. LEXIS 247</td>\n",
       "    </tr>\n",
       "    <tr>\n",
       "      <th>2</th>\n",
       "      <td>1796 U.S. LEXIS 409</td>\n",
       "      <td>1793 U.S. LEXIS 247</td>\n",
       "    </tr>\n",
       "    <tr>\n",
       "      <th>3</th>\n",
       "      <td>1796 U.S. LEXIS 409</td>\n",
       "      <td>1793 U.S. LEXIS 248</td>\n",
       "    </tr>\n",
       "    <tr>\n",
       "      <th>4</th>\n",
       "      <td>1792 U.S. LEXIS 590</td>\n",
       "      <td>1793 U.S. LEXIS 249</td>\n",
       "    </tr>\n",
       "  </tbody>\n",
       "</table>\n",
       "</div>"
      ],
      "text/plain": [
       "            cited_case          citing_case\n",
       "0  1796 U.S. LEXIS 409  1792 U.S. LEXIS 587\n",
       "1  1793 U.S. LEXIS 249  1793 U.S. LEXIS 247\n",
       "2  1796 U.S. LEXIS 409  1793 U.S. LEXIS 247\n",
       "3  1796 U.S. LEXIS 409  1793 U.S. LEXIS 248\n",
       "4  1792 U.S. LEXIS 590  1793 U.S. LEXIS 249"
      ]
     },
     "execution_count": 4,
     "metadata": {},
     "output_type": "execute_result"
    }
   ],
   "source": [
    "df_links.head()"
   ]
  },
  {
   "cell_type": "code",
   "execution_count": 5,
   "metadata": {},
   "outputs": [
    {
     "data": {
      "text/html": [
       "<div>\n",
       "<style>\n",
       "    .dataframe thead tr:only-child th {\n",
       "        text-align: right;\n",
       "    }\n",
       "\n",
       "    .dataframe thead th {\n",
       "        text-align: left;\n",
       "    }\n",
       "\n",
       "    .dataframe tbody tr th {\n",
       "        vertical-align: top;\n",
       "    }\n",
       "</style>\n",
       "<table border=\"1\" class=\"dataframe\">\n",
       "  <thead>\n",
       "    <tr style=\"text-align: right;\">\n",
       "      <th></th>\n",
       "      <th>name</th>\n",
       "      <th>usid</th>\n",
       "      <th>lexid</th>\n",
       "      <th>amiciz_num</th>\n",
       "      <th>auth_num</th>\n",
       "      <th>hub_num</th>\n",
       "      <th>oxford_num</th>\n",
       "      <th>cq_num</th>\n",
       "      <th>nyt_num</th>\n",
       "      <th>insc_num</th>\n",
       "      <th>...</th>\n",
       "      <th>age_sq</th>\n",
       "      <th>insc_num_lag</th>\n",
       "      <th>apin_num_lag</th>\n",
       "      <th>stin_num_lag</th>\n",
       "      <th>poutevcent_num_lag</th>\n",
       "      <th>pinevcent_num_lag</th>\n",
       "      <th>phub_num_lag</th>\n",
       "      <th>pauth_num_lag</th>\n",
       "      <th>outsc_num_lag</th>\n",
       "      <th>sc_cumul_cites_lag</th>\n",
       "    </tr>\n",
       "  </thead>\n",
       "  <tbody>\n",
       "    <tr>\n",
       "      <th>0</th>\n",
       "      <td>West v. Barnes</td>\n",
       "      <td>2 u.S. 401</td>\n",
       "      <td>1791 U.S. LEXIS 189</td>\n",
       "      <td>NaN</td>\n",
       "      <td>0.0</td>\n",
       "      <td>0.0</td>\n",
       "      <td>0.0</td>\n",
       "      <td>0.0</td>\n",
       "      <td>NaN</td>\n",
       "      <td>0</td>\n",
       "      <td>...</td>\n",
       "      <td>0.0</td>\n",
       "      <td>NaN</td>\n",
       "      <td>NaN</td>\n",
       "      <td>NaN</td>\n",
       "      <td>NaN</td>\n",
       "      <td>NaN</td>\n",
       "      <td>NaN</td>\n",
       "      <td>NaN</td>\n",
       "      <td>NaN</td>\n",
       "      <td>NaN</td>\n",
       "    </tr>\n",
       "    <tr>\n",
       "      <th>1</th>\n",
       "      <td>West v. Barnes</td>\n",
       "      <td>2 U.S. 401</td>\n",
       "      <td>1791 U.S. LEXIS 189</td>\n",
       "      <td>NaN</td>\n",
       "      <td>0.0</td>\n",
       "      <td>0.0</td>\n",
       "      <td>0.0</td>\n",
       "      <td>0.0</td>\n",
       "      <td>NaN</td>\n",
       "      <td>0</td>\n",
       "      <td>...</td>\n",
       "      <td>1.0</td>\n",
       "      <td>0.0</td>\n",
       "      <td>0.0</td>\n",
       "      <td>0.0</td>\n",
       "      <td>0.583333</td>\n",
       "      <td>0.583333</td>\n",
       "      <td>0.583333</td>\n",
       "      <td>0.583333</td>\n",
       "      <td>0.0</td>\n",
       "      <td>0.0</td>\n",
       "    </tr>\n",
       "    <tr>\n",
       "      <th>2</th>\n",
       "      <td>West v. Barnes</td>\n",
       "      <td>2 U.S. 401</td>\n",
       "      <td>1791 U.S. LEXIS 189</td>\n",
       "      <td>NaN</td>\n",
       "      <td>0.0</td>\n",
       "      <td>0.0</td>\n",
       "      <td>0.0</td>\n",
       "      <td>0.0</td>\n",
       "      <td>NaN</td>\n",
       "      <td>0</td>\n",
       "      <td>...</td>\n",
       "      <td>4.0</td>\n",
       "      <td>0.0</td>\n",
       "      <td>0.0</td>\n",
       "      <td>0.0</td>\n",
       "      <td>0.583333</td>\n",
       "      <td>0.583333</td>\n",
       "      <td>0.583333</td>\n",
       "      <td>0.583333</td>\n",
       "      <td>0.0</td>\n",
       "      <td>0.0</td>\n",
       "    </tr>\n",
       "    <tr>\n",
       "      <th>3</th>\n",
       "      <td>West v. Barnes</td>\n",
       "      <td>2 U.S. 401</td>\n",
       "      <td>1791 U.S. LEXIS 189</td>\n",
       "      <td>NaN</td>\n",
       "      <td>0.0</td>\n",
       "      <td>0.0</td>\n",
       "      <td>0.0</td>\n",
       "      <td>0.0</td>\n",
       "      <td>NaN</td>\n",
       "      <td>0</td>\n",
       "      <td>...</td>\n",
       "      <td>9.0</td>\n",
       "      <td>0.0</td>\n",
       "      <td>0.0</td>\n",
       "      <td>0.0</td>\n",
       "      <td>0.444444</td>\n",
       "      <td>0.555556</td>\n",
       "      <td>0.500000</td>\n",
       "      <td>0.444444</td>\n",
       "      <td>0.0</td>\n",
       "      <td>0.0</td>\n",
       "    </tr>\n",
       "    <tr>\n",
       "      <th>4</th>\n",
       "      <td>West v. Barnes</td>\n",
       "      <td>2 U.S. 401</td>\n",
       "      <td>1791 U.S. LEXIS 189</td>\n",
       "      <td>NaN</td>\n",
       "      <td>0.0</td>\n",
       "      <td>0.0</td>\n",
       "      <td>0.0</td>\n",
       "      <td>0.0</td>\n",
       "      <td>NaN</td>\n",
       "      <td>0</td>\n",
       "      <td>...</td>\n",
       "      <td>16.0</td>\n",
       "      <td>0.0</td>\n",
       "      <td>0.0</td>\n",
       "      <td>0.0</td>\n",
       "      <td>0.454545</td>\n",
       "      <td>0.545455</td>\n",
       "      <td>0.500000</td>\n",
       "      <td>0.454545</td>\n",
       "      <td>0.0</td>\n",
       "      <td>0.0</td>\n",
       "    </tr>\n",
       "  </tbody>\n",
       "</table>\n",
       "<p>5 rows × 26 columns</p>\n",
       "</div>"
      ],
      "text/plain": [
       "             name        usid                lexid  amiciz_num  auth_num  \\\n",
       "0  West v. Barnes  2 u.S. 401  1791 U.S. LEXIS 189         NaN       0.0   \n",
       "1  West v. Barnes  2 U.S. 401  1791 U.S. LEXIS 189         NaN       0.0   \n",
       "2  West v. Barnes  2 U.S. 401  1791 U.S. LEXIS 189         NaN       0.0   \n",
       "3  West v. Barnes  2 U.S. 401  1791 U.S. LEXIS 189         NaN       0.0   \n",
       "4  West v. Barnes  2 U.S. 401  1791 U.S. LEXIS 189         NaN       0.0   \n",
       "\n",
       "   hub_num  oxford_num  cq_num  nyt_num  insc_num         ...          age_sq  \\\n",
       "0      0.0         0.0     0.0      NaN         0         ...             0.0   \n",
       "1      0.0         0.0     0.0      NaN         0         ...             1.0   \n",
       "2      0.0         0.0     0.0      NaN         0         ...             4.0   \n",
       "3      0.0         0.0     0.0      NaN         0         ...             9.0   \n",
       "4      0.0         0.0     0.0      NaN         0         ...            16.0   \n",
       "\n",
       "   insc_num_lag  apin_num_lag  stin_num_lag  poutevcent_num_lag  \\\n",
       "0           NaN           NaN           NaN                 NaN   \n",
       "1           0.0           0.0           0.0            0.583333   \n",
       "2           0.0           0.0           0.0            0.583333   \n",
       "3           0.0           0.0           0.0            0.444444   \n",
       "4           0.0           0.0           0.0            0.454545   \n",
       "\n",
       "   pinevcent_num_lag  phub_num_lag  pauth_num_lag  outsc_num_lag  \\\n",
       "0                NaN           NaN            NaN            NaN   \n",
       "1           0.583333      0.583333       0.583333            0.0   \n",
       "2           0.583333      0.583333       0.583333            0.0   \n",
       "3           0.555556      0.500000       0.444444            0.0   \n",
       "4           0.545455      0.500000       0.454545            0.0   \n",
       "\n",
       "   sc_cumul_cites_lag  \n",
       "0                 NaN  \n",
       "1                 0.0  \n",
       "2                 0.0  \n",
       "3                 0.0  \n",
       "4                 0.0  \n",
       "\n",
       "[5 rows x 26 columns]"
      ]
     },
     "execution_count": 5,
     "metadata": {},
     "output_type": "execute_result"
    }
   ],
   "source": [
    "df_nodes.head()"
   ]
  },
  {
   "cell_type": "code",
   "execution_count": 6,
   "metadata": {},
   "outputs": [
    {
     "data": {
      "text/plain": [
       "((2434607, 26), (202167, 2))"
      ]
     },
     "execution_count": 6,
     "metadata": {},
     "output_type": "execute_result"
    }
   ],
   "source": [
    "df_nodes.shape, df_links.shape"
   ]
  },
  {
   "cell_type": "code",
   "execution_count": 7,
   "metadata": {},
   "outputs": [
    {
     "data": {
      "text/plain": [
       "<matplotlib.axes._subplots.AxesSubplot at 0x7f11fed2b198>"
      ]
     },
     "execution_count": 7,
     "metadata": {},
     "output_type": "execute_result"
    },
    {
     "data": {
      "image/png": "[encoded data removed]",
      "text/plain": [
       "<Figure size 432x288 with 1 Axes>"
      ]
     },
     "metadata": {},
     "output_type": "display_data"
    }
   ],
   "source": [
    "df_nodes.groupby('citingyr_num').count()['lexid'].plot()"
   ]
  },
  {
   "cell_type": "markdown",
   "metadata": {},
   "source": [
    "## citation distance\n",
    "To replicate the results from Bommarito et al., we take the first 25 years of data"
   ]
  },
  {
   "cell_type": "code",
   "execution_count": 8,
   "metadata": {},
   "outputs": [],
   "source": [
    "import networkx as nx\n",
    "from nwtools import communities\n",
    "import numpy as np\n",
    "from matplotlib import pyplot as plt"
   ]
  },
  {
   "cell_type": "code",
   "execution_count": 9,
   "metadata": {},
   "outputs": [],
   "source": [
    "min_year = df_nodes['citingyr_num'].min()\n",
    "df_nodes_sub = df_nodes[df_nodes['citingyr_num']==min_year+25]"
   ]
  },
  {
   "cell_type": "code",
   "execution_count": 10,
   "metadata": {},
   "outputs": [
    {
     "data": {
      "text/plain": [
       "(507, 26)"
      ]
     },
     "execution_count": 10,
     "metadata": {},
     "output_type": "execute_result"
    }
   ],
   "source": [
    "df_nodes_sub.shape"
   ]
  },
  {
   "cell_type": "code",
   "execution_count": 11,
   "metadata": {},
   "outputs": [],
   "source": [
    "df_links_sub = df_links[df_links['citing_case'].isin(df_nodes_sub.lexid)&df_links['cited_case'].isin(df_nodes_sub.lexid)]\n",
    "df_links_sub = df_links_sub.drop_duplicates()"
   ]
  },
  {
   "cell_type": "code",
   "execution_count": 12,
   "metadata": {},
   "outputs": [
    {
     "data": {
      "text/plain": [
       "(162, 2)"
      ]
     },
     "execution_count": 12,
     "metadata": {},
     "output_type": "execute_result"
    }
   ],
   "source": [
    "df_links_sub.shape"
   ]
  },
  {
   "cell_type": "code",
   "execution_count": 13,
   "metadata": {},
   "outputs": [
    {
     "data": {
      "text/plain": [
       "(182, 162)"
      ]
     },
     "execution_count": 13,
     "metadata": {},
     "output_type": "execute_result"
    }
   ],
   "source": [
    "graph = nx.from_pandas_edgelist(df_links_sub, source='citing_case', target='cited_case', create_using=nx.DiGraph())\n",
    "graph.number_of_nodes(), graph.number_of_edges()"
   ]
  },
  {
   "cell_type": "code",
   "execution_count": 14,
   "metadata": {},
   "outputs": [
    {
     "data": {
      "text/plain": [
       "(62, 76)"
      ]
     },
     "execution_count": 14,
     "metadata": {},
     "output_type": "execute_result"
    }
   ],
   "source": [
    "graph = graph.subgraph(sorted(nx.weakly_connected_components(graph), key=len)[-1]).copy()\n",
    "graph.number_of_nodes(), graph.number_of_edges()"
   ]
  },
  {
   "cell_type": "code",
   "execution_count": 15,
   "metadata": {},
   "outputs": [
    {
     "data": {
      "text/plain": [
       "False"
      ]
     },
     "execution_count": 15,
     "metadata": {},
     "output_type": "execute_result"
    }
   ],
   "source": [
    "nx.algorithms.dag.is_directed_acyclic_graph(graph)"
   ]
  },
  {
   "cell_type": "code",
   "execution_count": 16,
   "metadata": {},
   "outputs": [
    {
     "data": {
      "text/plain": [
       "True"
      ]
     },
     "execution_count": 16,
     "metadata": {},
     "output_type": "execute_result"
    }
   ],
   "source": [
    "# Clean up: remove cycles\n",
    "self_loops = [(a,b) for a, b in graph.edges if a==b]\n",
    "graph.remove_edges_from(self_loops)\n",
    "\n",
    "cycles = nx.algorithms.cycles.simple_cycles(graph)\n",
    "for c in cycles:\n",
    "    if len(c)==2:\n",
    "        a, b = c\n",
    "        if a<b:\n",
    "            graph.remove_edge(b,a)\n",
    "        else:\n",
    "            graph.remove_edge(a,b)\n",
    "            \n",
    "nx.algorithms.dag.is_directed_acyclic_graph(graph)"
   ]
  },
  {
   "cell_type": "code",
   "execution_count": 17,
   "metadata": {},
   "outputs": [
    {
     "data": {
      "text/plain": [
       "(62, 73)"
      ]
     },
     "execution_count": 17,
     "metadata": {},
     "output_type": "execute_result"
    }
   ],
   "source": [
    "graph.number_of_nodes(), graph.number_of_edges()"
   ]
  },
  {
   "cell_type": "code",
   "execution_count": 18,
   "metadata": {},
   "outputs": [],
   "source": [
    "dist, labels = communities.citation_distance_matrix(graph)"
   ]
  },
  {
   "cell_type": "code",
   "execution_count": 19,
   "metadata": {},
   "outputs": [
    {
     "name": "stdout",
     "output_type": "stream",
     "text": [
      "True\n",
      "0.0\n"
     ]
    }
   ],
   "source": [
    "print(np.all(dist==dist.T))\n",
    "print(sum(dist.diagonal()))"
   ]
  },
  {
   "cell_type": "code",
   "execution_count": 21,
   "metadata": {},
   "outputs": [
    {
     "data": {
      "text/plain": [
       "(62, (62, 62))"
      ]
     },
     "execution_count": 21,
     "metadata": {},
     "output_type": "execute_result"
    }
   ],
   "source": [
    "len(labels), dist.shape"
   ]
  },
  {
   "cell_type": "code",
   "execution_count": 22,
   "metadata": {},
   "outputs": [
    {
     "data": {
      "image/png": "[encoded data removed]",
      "text/plain": [
       "<Figure size 432x288 with 1 Axes>"
      ]
     },
     "metadata": {},
     "output_type": "display_data"
    }
   ],
   "source": [
    "plt.hist(dist.flat, bins=np.arange(0, 1, .05));"
   ]
  },
  {
   "cell_type": "code",
   "execution_count": 23,
   "metadata": {},
   "outputs": [],
   "source": [
    "import scipy.cluster\n",
    "cl = scipy.cluster.hierarchy.linkage(scipy.spatial.distance.squareform(dist), method='single')"
   ]
  },
  {
   "cell_type": "code",
   "execution_count": 24,
   "metadata": {},
   "outputs": [
    {
     "data": {
      "image/png": "[encoded data removed]",
      "text/plain": [
       "<Figure size 1800x720 with 1 Axes>"
      ]
     },
     "metadata": {},
     "output_type": "display_data"
    }
   ],
   "source": [
    "fig = plt.figure(figsize=(25, 10))\n",
    "scipy.cluster.hierarchy.dendrogram(cl);"
   ]
  },
  {
   "cell_type": "code",
   "execution_count": 25,
   "metadata": {},
   "outputs": [
    {
     "data": {
      "image/png": "[encoded data removed]",
      "text/plain": [
       "<Figure size 720x720 with 2 Axes>"
      ]
     },
     "metadata": {},
     "output_type": "display_data"
    }
   ],
   "source": [
    "# How many clusters do we have for different distance cut-off values\n",
    "fig, axes = plt.subplots(2, figsize=(10,10))\n",
    "t_range = np.arange(0, 1, 0.05)\n",
    "cluster_sizes = np.zeros(len(t_range))\n",
    "largest_size = np.zeros(len(t_range))\n",
    "for i in range(len(t_range)):\n",
    "    clusters = scipy.cluster.hierarchy.fcluster(cl, t_range[i], criterion='distance')\n",
    "    clusters_unique = set(clusters)\n",
    "    cluster_sizes[i] = len(clusters_unique)\n",
    "    largest_size[i] = max([list(clusters).count(c) for c in clusters_unique]) / len(clusters)\n",
    "axes[0].plot(t_range, cluster_sizes)\n",
    "axes[1].plot(t_range, largest_size)\n",
    "\n",
    "axes[0].set_xlabel('threshold')\n",
    "axes[0].set_ylabel('nr of clusters')\n",
    "axes[1].set_xlabel('threshold')\n",
    "axes[1].set_ylabel('relative size of largest cluster')\n",
    "plt.show()"
   ]
  },
  {
   "cell_type": "code",
   "execution_count": 31,
   "metadata": {},
   "outputs": [],
   "source": [
    "clusters = scipy.cluster.hierarchy.fcluster(cl, 0.6, criterion='distance')\n",
    "clusters_dict = {labels[i]: clusters[i] for i in range(len(clusters))} \n",
    "clusters_list = [clusters_dict[k] for k in graph.nodes()]"
   ]
  },
  {
   "cell_type": "code",
   "execution_count": 46,
   "metadata": {},
   "outputs": [],
   "source": [
    "\n",
    "pos_rescaled = nx.rescale_layout(np.array([pos_dict[k] for k in graph.nodes()]), scale=5)"
   ]
  },
  {
   "cell_type": "code",
   "execution_count": 65,
   "metadata": {},
   "outputs": [
    {
     "data": {
      "image/png": "[encoded data removed]",
      "text/plain": [
       "<Figure size 1080x720 with 1 Axes>"
      ]
     },
     "metadata": {},
     "output_type": "display_data"
    }
   ],
   "source": [
    "fig = plt.figure(figsize=(15, 10))\n",
    "ax = plt.gca()\n",
    "pos_dict = nx.layout.spectral_layout(graph)\n",
    "nx.draw(graph, node_color=clusters_list, pos=pos_dict, cmap='rainbow', node_size=50, ax=ax)"
   ]
  },
  {
   "cell_type": "code",
   "execution_count": 61,
   "metadata": {},
   "outputs": [
    {
     "data": {
      "text/plain": [
       "\u001b[0;31mSignature:\u001b[0m \u001b[0mnx\u001b[0m\u001b[0;34m.\u001b[0m\u001b[0mdraw_networkx\u001b[0m\u001b[0;34m(\u001b[0m\u001b[0mG\u001b[0m\u001b[0;34m,\u001b[0m \u001b[0mpos\u001b[0m\u001b[0;34m=\u001b[0m\u001b[0;32mNone\u001b[0m\u001b[0;34m,\u001b[0m \u001b[0marrows\u001b[0m\u001b[0;34m=\u001b[0m\u001b[0;32mTrue\u001b[0m\u001b[0;34m,\u001b[0m \u001b[0mwith_labels\u001b[0m\u001b[0;34m=\u001b[0m\u001b[0;32mTrue\u001b[0m\u001b[0;34m,\u001b[0m \u001b[0;34m**\u001b[0m\u001b[0mkwds\u001b[0m\u001b[0;34m)\u001b[0m\u001b[0;34m\u001b[0m\u001b[0m\n",
       "\u001b[0;31mDocstring:\u001b[0m\n",
       "Draw the graph G using Matplotlib.\n",
       "\n",
       "Draw the graph with Matplotlib with options for node positions,\n",
       "labeling, titles, and many other drawing features.\n",
       "See draw() for simple drawing without labels or axes.\n",
       "\n",
       "Parameters\n",
       "----------\n",
       "G : graph\n",
       "   A networkx graph\n",
       "\n",
       "pos : dictionary, optional\n",
       "   A dictionary with nodes as keys and positions as values.\n",
       "   If not specified a spring layout positioning will be computed.\n",
       "   See :py:mod:`networkx.drawing.layout` for functions that\n",
       "   compute node positions.\n",
       "\n",
       "arrows : bool, optional (default=True)\n",
       "   For directed graphs, if True draw arrowheads.\n",
       "   Note: Arrows will be the same color as edges.\n",
       "\n",
       "arrowstyle : str, optional (default='-|>')\n",
       "    For directed graphs, choose the style of the arrowsheads.\n",
       "    See :py:class: `matplotlib.patches.ArrowStyle` for more\n",
       "    options.\n",
       "\n",
       "arrowsize : int, optional (default=10)\n",
       "   For directed graphs, choose the size of the arrow head head's length and\n",
       "   width. See :py:class: `matplotlib.patches.FancyArrowPatch` for attribute\n",
       "   `mutation_scale` for more info.\n",
       "\n",
       "with_labels :  bool, optional (default=True)\n",
       "   Set to True to draw labels on the nodes.\n",
       "\n",
       "ax : Matplotlib Axes object, optional\n",
       "   Draw the graph in the specified Matplotlib axes.\n",
       "\n",
       "nodelist : list, optional (default G.nodes())\n",
       "   Draw only specified nodes\n",
       "\n",
       "edgelist : list, optional (default=G.edges())\n",
       "   Draw only specified edges\n",
       "\n",
       "node_size : scalar or array, optional (default=300)\n",
       "   Size of nodes.  If an array is specified it must be the\n",
       "   same length as nodelist.\n",
       "\n",
       "node_color : color string, or array of floats, (default='r')\n",
       "   Node color. Can be a single color format string,\n",
       "   or a  sequence of colors with the same length as nodelist.\n",
       "   If numeric values are specified they will be mapped to\n",
       "   colors using the cmap and vmin,vmax parameters.  See\n",
       "   matplotlib.scatter for more details.\n",
       "\n",
       "node_shape :  string, optional (default='o')\n",
       "   The shape of the node.  Specification is as matplotlib.scatter\n",
       "   marker, one of 'so^>v<dph8'.\n",
       "\n",
       "alpha : float, optional (default=1.0)\n",
       "   The node and edge transparency\n",
       "\n",
       "cmap : Matplotlib colormap, optional (default=None)\n",
       "   Colormap for mapping intensities of nodes\n",
       "\n",
       "vmin,vmax : float, optional (default=None)\n",
       "   Minimum and maximum for node colormap scaling\n",
       "\n",
       "linewidths : [None | scalar | sequence]\n",
       "   Line width of symbol border (default =1.0)\n",
       "\n",
       "width : float, optional (default=1.0)\n",
       "   Line width of edges\n",
       "\n",
       "edge_color : color string, or array of floats (default='r')\n",
       "   Edge color. Can be a single color format string,\n",
       "   or a sequence of colors with the same length as edgelist.\n",
       "   If numeric values are specified they will be mapped to\n",
       "   colors using the edge_cmap and edge_vmin,edge_vmax parameters.\n",
       "\n",
       "edge_cmap : Matplotlib colormap, optional (default=None)\n",
       "   Colormap for mapping intensities of edges\n",
       "\n",
       "edge_vmin,edge_vmax : floats, optional (default=None)\n",
       "   Minimum and maximum for edge colormap scaling\n",
       "\n",
       "style : string, optional (default='solid')\n",
       "   Edge line style (solid|dashed|dotted,dashdot)\n",
       "\n",
       "labels : dictionary, optional (default=None)\n",
       "   Node labels in a dictionary keyed by node of text labels\n",
       "\n",
       "font_size : int, optional (default=12)\n",
       "   Font size for text labels\n",
       "\n",
       "font_color : string, optional (default='k' black)\n",
       "   Font color string\n",
       "\n",
       "font_weight : string, optional (default='normal')\n",
       "   Font weight\n",
       "\n",
       "font_family : string, optional (default='sans-serif')\n",
       "   Font family\n",
       "\n",
       "label : string, optional\n",
       "    Label for graph legend\n",
       "\n",
       "Notes\n",
       "-----\n",
       "For directed graphs, arrows  are drawn at the head end.  Arrows can be\n",
       "turned off with keyword arrows=False.\n",
       "\n",
       "Examples\n",
       "--------\n",
       ">>> G = nx.dodecahedral_graph()\n",
       ">>> nx.draw(G)\n",
       ">>> nx.draw(G, pos=nx.spring_layout(G))  # use spring layout\n",
       "\n",
       ">>> import matplotlib.pyplot as plt\n",
       ">>> limits = plt.axis('off')  # turn of axis\n",
       "\n",
       "Also see the NetworkX drawing examples at\n",
       "https://networkx.github.io/documentation/latest/auto_examples/index.html\n",
       "\n",
       "See Also\n",
       "--------\n",
       "draw()\n",
       "draw_networkx_nodes()\n",
       "draw_networkx_edges()\n",
       "draw_networkx_labels()\n",
       "draw_networkx_edge_labels()\n",
       "\u001b[0;31mFile:\u001b[0m      ~/anaconda2/envs/caselaw/lib/python3.5/site-packages/networkx/drawing/nx_pylab.py\n",
       "\u001b[0;31mType:\u001b[0m      function\n"
      ]
     },
     "metadata": {},
     "output_type": "display_data"
    }
   ],
   "source": [
    "nx.draw_networkx?"
   ]
  },
  {
   "cell_type": "code",
   "execution_count": null,
   "metadata": {},
   "outputs": [],
   "source": []
  }
 ],
 "metadata": {
  "kernelspec": {
   "display_name": "Python [conda env:caselaw]",
   "language": "python",
   "name": "conda-env-caselaw-py"
  },
  "language_info": {
   "codemirror_mode": {
    "name": "ipython",
    "version": 3
   },
   "file_extension": ".py",
   "mimetype": "text/x-python",
   "name": "python",
   "nbconvert_exporter": "python",
   "pygments_lexer": "ipython3",
   "version": "3.5.5"
  }
 },
 "nbformat": 4,
 "nbformat_minor": 2
}
